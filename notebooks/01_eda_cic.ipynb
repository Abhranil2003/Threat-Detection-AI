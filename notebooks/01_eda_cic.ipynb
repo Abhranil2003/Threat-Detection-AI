{
 "cells": [
  {
   "cell_type": "markdown",
   "id": "78a83947",
   "metadata": {},
   "source": [
    "# 🧪 EDA: CIC-IDS-2017 Dataset (Processed Files)"
   ]
  },
  {
   "cell_type": "code",
   "execution_count": null,
   "id": "2c275d42",
   "metadata": {},
   "outputs": [],
   "source": [
    "import pandas as pd\n",
    "import matplotlib.pyplot as plt\n",
    "import seaborn as sns\n",
    "import os\n",
    "\n",
    "# Load one of the cleaned CSV files\n",
    "data_path = 'data/processed/CIC-IDS-2017'\n",
    "csv_files = [f for f in os.listdir(data_path) if f.endswith('_cleaned.csv')]\n",
    "print('Available cleaned files:', csv_files)\n",
    "\n",
    "# Load a sample file\n",
    "df = pd.read_csv(os.path.join(data_path, csv_files[0]))\n",
    "df.shape"
   ]
  },
  {
   "cell_type": "code",
   "execution_count": null,
   "id": "e6726966",
   "metadata": {},
   "outputs": [],
   "source": [
    "df.head()"
   ]
  },
  {
   "cell_type": "code",
   "execution_count": null,
   "id": "36008601",
   "metadata": {},
   "outputs": [],
   "source": [
    "df.info()"
   ]
  },
  {
   "cell_type": "code",
   "execution_count": null,
   "id": "4a8fdbe7",
   "metadata": {},
   "outputs": [],
   "source": [
    "df.describe(include='all')"
   ]
  },
  {
   "cell_type": "code",
   "execution_count": null,
   "id": "a99e2f40",
   "metadata": {},
   "outputs": [],
   "source": [
    "# Check for missing values\n",
    "sns.heatmap(df.isnull(), cbar=False, yticklabels=False)\n",
    "plt.title('Missing Values Heatmap')\n",
    "plt.show()"
   ]
  },
  {
   "cell_type": "code",
   "execution_count": null,
   "id": "b51d77f6",
   "metadata": {},
   "outputs": [],
   "source": [
    "# Visualize class distribution if label column is available\n",
    "if 'Label' in df.columns:\n",
    "    df['Label'].value_counts().plot(kind='bar', color='steelblue')\n",
    "    plt.title('Class Distribution')\n",
    "    plt.xlabel('Label')\n",
    "    plt.ylabel('Frequency')\n",
    "    plt.xticks(rotation=45)\n",
    "    plt.tight_layout()\n",
    "    plt.show()"
   ]
  },
  {
   "cell_type": "code",
   "execution_count": null,
   "id": "83140307",
   "metadata": {},
   "outputs": [],
   "source": [
    "# Correlation matrix\n",
    "plt.figure(figsize=(12, 8))\n",
    "sns.heatmap(df.corr(numeric_only=True), cmap='coolwarm', annot=False)\n",
    "plt.title('Correlation Heatmap')\n",
    "plt.tight_layout()\n",
    "plt.show()"
   ]
  }
 ],
 "metadata": {},
 "nbformat": 4,
 "nbformat_minor": 5
}